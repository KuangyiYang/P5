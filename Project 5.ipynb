{
 "cells": [
  {
   "cell_type": "markdown",
   "metadata": {},
   "source": [
    "## Purchase Prediction ##\n",
    "### Project Overview ###\n",
    "\n",
    "Recommender Systems are to help people discover new content, find the content we were already looking for, discover which things go together, personalize user experiences in response to user feedback, recommend incredible products that are relevant to our interests and identify things that we like, which are basically to model people’s preferences, opinions and behavior.\n",
    "\n",
    "In this project, we will build a recommender systems to make predictions related to reviews of Books on Amazon. The dataset is 1,000,000 Amazon Book Reviews, which provided us purchase information. Our target was to predict whether the user purchased the item based on these reviews.\n"
   ]
  },
  {
   "cell_type": "markdown",
   "metadata": {},
   "source": [
    "### Problem Statement ###\n",
    "\n",
    "We got 1,000,000 reviews to be used for training, since the dataset is really large, we are not going to use all reviews for training. The fields in this file are:\n",
    "\n",
    "itemID The ID of the item. This is a hashed product identifier from Amazon.\n",
    "reviewerID The ID of the reviewer.\n",
    "rating Rating of the review.\n",
    "helpful Helpfulness votes for the review.\n",
    "reviewText The text of the review. \n",
    "summary Summary of the review.\n",
    "unixReviewTime Time of the review in seconds since 1970.\n",
    "reviewTime Plain-text representation of the review time. \n",
    "category Category labels of the product being reviewed.\n",
    "pairs Purchase.txt Pairs on which you are to predict whether a user purchased an item or not.\n",
    "\n",
    "Our task is to predict given a (user, item) pair from 'pairs_Purchase.txt' whether the user purchased the item (really, whether it was one of the items they reviewed). The test set has been constructed such that exactly 50% of the pairs correspond to purchased items and the other 50% do not.\n",
    "\n",
    "In order to solve this problem, we considered three methods. First, the baseline prediction was to find the most popular products that accounts for 50% of purchases in the training data, return '1' whenever such a product is seen at test time, '0' otherwise; Then we applied logistic regression, here we found two ways to generate features and response in training and validation set, we will talk in detail later. Finally, we built an user-based collaborative filtering which was implemented by Jaccard similarity between users. Besides, we refined the percentage threshold that works better than a simple 50% threshold.\n"
   ]
  },
  {
   "cell_type": "code",
   "execution_count": 29,
   "metadata": {
    "collapsed": true
   },
   "outputs": [],
   "source": [
    "import gzip\n",
    "import math\n",
    "import sys\n",
    "import time\n",
    "import random\n",
    "import numpy as np\n",
    "import pandas as pd\n",
    "import matplotlib.pyplot as plt\n",
    "%matplotlib inline\n",
    "from collections import defaultdict\n",
    "from __future__ import division\n",
    "from sklearn.cross_validation import train_test_split\n",
    "from sklearn.feature_extraction import DictVectorizer\n",
    "from sklearn.linear_model import LogisticRegression"
   ]
  },
  {
   "cell_type": "markdown",
   "metadata": {},
   "source": [
    "### Data Exploration ###\n",
    "\n",
    "The original reviews data is \"train.json.gz\", we read the data as a list dataset in python. The current reviews list has 1000000 dictionary type objects, which stores review information, here is an example of one of the reviews, each object has 9 features."
   ]
  },
  {
   "cell_type": "code",
   "execution_count": 2,
   "metadata": {
    "collapsed": false
   },
   "outputs": [
    {
     "name": "stdout",
     "output_type": "stream",
     "text": [
      "Amazon Book Review Dataset loaded successfully!\n"
     ]
    }
   ],
   "source": [
    "# load data\n",
    "def readGz(f):\n",
    "    for l in gzip.open(f):\n",
    "        yield eval(l)\n",
    "\n",
    "data = []\n",
    "for l in readGz(\"train.json.gz\"):\n",
    "    data.append(l)\n",
    "print \"Amazon Book Review Dataset loaded successfully!\""
   ]
  },
  {
   "cell_type": "code",
   "execution_count": 3,
   "metadata": {
    "collapsed": false
   },
   "outputs": [
    {
     "data": {
      "text/plain": [
       "{'category': [['Books']],\n",
       " 'helpful': {'nHelpful': 0, 'outOf': 0},\n",
       " 'itemID': 'I572782694',\n",
       " 'rating': 5.0,\n",
       " 'reviewText': 'favorite of the series...May not have been as steamy as some of the others...but the characters, their depth, and believability were amazing.  wanted to curl up with Devlin and make it all better(wink wink). an amazing series...found Laura Kate when I stumbled onto Hearts in Darkness(one of my all time faves)...this series ranks up there with my Kresley Cole and Gena Showalter favorites.',\n",
       " 'reviewTime': '05 3, 2014',\n",
       " 'reviewerID': 'U243261361',\n",
       " 'summary': 'Loved it',\n",
       " 'unixReviewTime': 1399075200}"
      ]
     },
     "execution_count": 3,
     "metadata": {},
     "output_type": "execute_result"
    }
   ],
   "source": [
    "data[0]"
   ]
  },
  {
   "cell_type": "code",
   "execution_count": 13,
   "metadata": {
    "collapsed": false
   },
   "outputs": [
    {
     "name": "stdout",
     "output_type": "stream",
     "text": [
      " The total number of reviews in this dataset:  1000000\n",
      "The total number of users:  35736\n",
      "The total number of items:  37801\n",
      "Average user frequency:  27.9829863443\n",
      "Average item frequency:  26.4543266051\n",
      "The average rating:  4.218463\n",
      "The average length of review text:  1151.411355\n",
      "The average helpful rate:  0.738431763713\n"
     ]
    }
   ],
   "source": [
    "# basic statistics\n",
    "rating = []\n",
    "review_length = []\n",
    "helpful_rate = []\n",
    "unique_user_id = []\n",
    "unique_item_id = []\n",
    "time = []\n",
    "\n",
    "for e in data:\n",
    "    rating.append(e['rating'])\n",
    "    review_length.append(len(e['reviewText']))\n",
    "    unique_user_id.append(e['reviewerID'])\n",
    "    unique_item_id.append(e['itemID'])\n",
    "    time.append(e['unixReviewTime'])\n",
    "    if e['helpful']['outOf'] > 0:\n",
    "        helpful_rate.append(e['helpful']['nHelpful'] / e['helpful']['outOf'])\n",
    "    \n",
    "unique_user_id = set(unique_user_id)\n",
    "unique_item_id = set(unique_item_id)\n",
    "\n",
    "# items frequency\n",
    "item_frequency = defaultdict(int)\n",
    "total = 0\n",
    "for e in data:\n",
    "    user, item = e['reviewerID'], e['itemID']\n",
    "    item_frequency[item] += 1\n",
    "    total += 1\n",
    "        \n",
    "item_fre = [item_frequency[i] for i in item_frequency]\n",
    "item_fre.sort()\n",
    "item_fre.reverse()\n",
    "    \n",
    "# users frequency\n",
    "user_frequency = defaultdict(int)\n",
    "total = 0\n",
    "for e in data:\n",
    "    user, item = e['reviewerID'], e['itemID']\n",
    "    user_frequency[user] += 1\n",
    "    total += 1\n",
    "        \n",
    "user_fre = [user_frequency[i] for i in user_frequency]\n",
    "user_fre.sort()\n",
    "user_fre.reverse()\n",
    "\n",
    "print \"The total number of reviews in this dataset: \", len(data)\n",
    "print \"The total number of users: \", len(unique_user_id)\n",
    "print \"The total number of items: \", len(unique_item_id)\n",
    "print \"Average user frequency: \", sum(user_fre) / len(user_fre)\n",
    "print \"Average item frequency: \", sum(item_fre) / len(item_fre)\n",
    "print \"The average rating: \", sum(rating) / len(rating)\n",
    "print \"The average length of review text: \", sum(review_length) / len(review_length)\n",
    "print \"The average helpful rate: \", sum(helpful_rate) / len(helpful_rate)"
   ]
  },
  {
   "cell_type": "code",
   "execution_count": 40,
   "metadata": {
    "collapsed": false
   },
   "outputs": [
    {
     "data": {
      "text/plain": [
       "<matplotlib.text.Text at 0x1b928cf50>"
      ]
     },
     "execution_count": 40,
     "metadata": {},
     "output_type": "execute_result"
    },
    {
     "data": {
      "image/png": "[encoded data removed]",
      "text/plain": [
       "<matplotlib.figure.Figure at 0x1b92a4350>"
      ]
     },
     "metadata": {},
     "output_type": "display_data"
    }
   ],
   "source": [
    "# Data visualization\n",
    "# histgram of ratings\n",
    "plt.hist(rating, label = 'Ratings')\n",
    "plt.ylabel('Ratings')"
   ]
  },
  {
   "cell_type": "code",
   "execution_count": 26,
   "metadata": {
    "collapsed": false
   },
   "outputs": [
    {
     "data": {
      "text/plain": [
       "<matplotlib.text.Text at 0x1c19efd50>"
      ]
     },
     "execution_count": 26,
     "metadata": {},
     "output_type": "execute_result"
    },
    {
     "data": {
      "image/png": "[encoded data removed]",
      "text/plain": [
       "<matplotlib.figure.Figure at 0x1bad1c950>"
      ]
     },
     "metadata": {},
     "output_type": "display_data"
    }
   ],
   "source": [
    "# histgram of review length\n",
    "plt.hist(review_length)\n",
    "plt.axis([0, 10000, 0, 1000000])\n",
    "plt.ylabel('Length of Review Text')"
   ]
  },
  {
   "cell_type": "code",
   "execution_count": 27,
   "metadata": {
    "collapsed": false
   },
   "outputs": [
    {
     "data": {
      "text/plain": [
       "<matplotlib.text.Text at 0x1c1da0c10>"
      ]
     },
     "execution_count": 27,
     "metadata": {},
     "output_type": "execute_result"
    },
    {
     "data": {
      "image/png": "[encoded data removed]",
      "text/plain": [
       "<matplotlib.figure.Figure at 0x1c19f2d90>"
      ]
     },
     "metadata": {},
     "output_type": "display_data"
    }
   ],
   "source": [
    "# hist of helpful rate\n",
    "plt.hist(helpful_rate)\n",
    "plt.axis([0, 1.0, 0, 350000])\n",
    "plt.ylabel('Helpfulness Rate')"
   ]
  },
  {
   "cell_type": "markdown",
   "metadata": {},
   "source": [
    "### Data Preprocessing ###\n",
    "Although there are lots of features such as reviewText, reviewTime, Summary etc, what we only care about is the purchase information. So we generated user-item pairs from the original dataset and stored them in a list"
   ]
  },
  {
   "cell_type": "code",
   "execution_count": 41,
   "metadata": {
    "collapsed": false
   },
   "outputs": [],
   "source": [
    "# generate user-item pairs\n",
    "all_user = []\n",
    "all_item = []\n",
    "for e in data:\n",
    "    all_user.append(e['reviewerID'])\n",
    "    all_item.append(e['itemID'])\n",
    "    \n",
    "unique_user = list(set(all_user))\n",
    "unique_item = list(set(all_item))\n",
    "\n",
    "all_pairs = ['{}-{}'.format(all_user[i], all_item[i]) for i in range(len(all_item))]"
   ]
  },
  {
   "cell_type": "code",
   "execution_count": 25,
   "metadata": {
    "collapsed": false
   },
   "outputs": [
    {
     "name": "stdout",
     "output_type": "stream",
     "text": [
      "unique pairs:  1000000\n"
     ]
    },
    {
     "data": {
      "text/plain": [
       "['U243261361-I572782694',\n",
       " 'U947346309-I172992448',\n",
       " 'U405075077-I236549536',\n",
       " 'U931293227-I707281702',\n",
       " 'U398632015-I127335134',\n",
       " 'U282193926-I970107598',\n",
       " 'U681436293-I732947093',\n",
       " 'U913252976-I273175352',\n",
       " 'U584647862-I040055669',\n",
       " 'U887091398-I563838330']"
      ]
     },
     "execution_count": 25,
     "metadata": {},
     "output_type": "execute_result"
    }
   ],
   "source": [
    "print \"unique pairs: \", len(set(all_pairs))\n",
    "all_pairs[0:10]"
   ]
  },
  {
   "cell_type": "markdown",
   "metadata": {},
   "source": [
    "We need to think harder to generate a validation set for this data. Instead of just taking the last 100k reviews for validation, we instead took 50,000, but also randomly select 50,000 'non-purchases' by randomly selecting a user and an item, and checking that they do not already show up together in the training set."
   ]
  },
  {
   "cell_type": "code",
   "execution_count": 42,
   "metadata": {
    "collapsed": false
   },
   "outputs": [],
   "source": [
    "# generate non_purchased half\n",
    "length = 0\n",
    "while length < 50000:\n",
    "    user = list(np.random.choice(unique_user, size = 70000, replace = True))\n",
    "    item = list(np.random.choice(unique_item, size = 70000, replace = True))\n",
    "    select = set(['{}-{}'.format(user[i], item[i]) for i in range(len(item))])\n",
    "    select = select.difference(set(all_pairs[0:100000]))\n",
    "    select = select.difference(set(all_pairs[950000:]))\n",
    "    length = len(select)\n",
    "\n",
    "non_purchase = list(np.random.choice(list(select), size = 50000, replace = False))"
   ]
  },
  {
   "cell_type": "code",
   "execution_count": 43,
   "metadata": {
    "collapsed": false
   },
   "outputs": [
    {
     "data": {
      "text/plain": [
       "['U501478638-I507471294',\n",
       " 'U380506315-I820654026',\n",
       " 'U780033890-I254842988',\n",
       " 'U764574234-I898493465',\n",
       " 'U558625745-I143437438',\n",
       " 'U307898551-I092906927',\n",
       " 'U978009713-I686717301',\n",
       " 'U569185065-I897859165',\n",
       " 'U148756148-I071552252',\n",
       " 'U147006061-I936415489']"
      ]
     },
     "execution_count": 43,
     "metadata": {},
     "output_type": "execute_result"
    }
   ],
   "source": [
    "non_purchase[0:10]"
   ]
  },
  {
   "cell_type": "markdown",
   "metadata": {},
   "source": [
    "Since the data is quite large, it will be too time-consuming to work with all 1 million training examples, also since we don’t have access to the test labels. We will need to simulate validation/test sets of our own. Now we split the training data as follows:\n",
    "Reviews 1-100,000 for training\n",
    "Reviews 950001 - 1,000,000 + 50,000 non-purchases for validation"
   ]
  },
  {
   "cell_type": "code",
   "execution_count": 44,
   "metadata": {
    "collapsed": false
   },
   "outputs": [],
   "source": [
    "# generate training and validation set\n",
    "\n",
    "train_set = all_pairs[0: 900000]\n",
    "val_set = all_pairs[950000: ] + non_purchase"
   ]
  },
  {
   "cell_type": "markdown",
   "metadata": {},
   "source": [
    "### Metrics ###\n",
    "In the test data, we are given pairs like these:\n",
    "\n",
    "userID - itemID,          \t\t\tprediction\n",
    "\n",
    "U321264570-I114057426\n",
    "\n",
    "U746082164-I893042700\n",
    "\n",
    "U370790476-I428256969\n",
    "\n",
    "U914546038-I075600973\n",
    "\n",
    "We need to estimate the final column, predict '1' if the user purchased the item, otherwise predict '0'. The evaluation for this task is the categorization accuracy (fraction of instances labeled correctly), which is defined as: 1 - Hamming loss(fraction of misclassifications) "
   ]
  },
  {
   "cell_type": "code",
   "execution_count": 45,
   "metadata": {
    "collapsed": false
   },
   "outputs": [],
   "source": [
    "# define metrics\n",
    "def accuracy(pred):\n",
    "    length = len(pred)\n",
    "    acc = 0\n",
    "    for i in range(0, int(length/2)):\n",
    "        if pred[i] == 1:\n",
    "            acc = acc + 1\n",
    "    for i in range(int(length/2), length):\n",
    "        if pred[i] == 0:\n",
    "            acc = acc + 1\n",
    "    acc = acc/length\n",
    "    return acc"
   ]
  },
  {
   "cell_type": "markdown",
   "metadata": {},
   "source": [
    "## Models and Inplementation ##\n",
    "### Baseline popularity model: ### \n",
    "the baseline for this task simply ranks products by popularity, and returns '1' for popular products, by finding the most popular product that account for 50% of purchases. "
   ]
  },
  {
   "cell_type": "code",
   "execution_count": 97,
   "metadata": {
    "collapsed": false
   },
   "outputs": [
    {
     "name": "stdout",
     "output_type": "stream",
     "text": [
      "the accuracy of the baseline on the validation set is: 0.63692\n"
     ]
    }
   ],
   "source": [
    "# basic popularity model\n",
    "def basic_popu_model(train, threshold):\n",
    "    '''\n",
    "    function to select the most popular items(purcahsed number > total purchased number * threshold)\n",
    "    \n",
    "    input: list of user-item pairs, threshold\n",
    "    \n",
    "    output: a list of most popular items \n",
    "    '''\n",
    "    item_count = defaultdict(int)\n",
    "    total = 0\n",
    "    for e in train:\n",
    "        user, item = e.split('-')\n",
    "        item_count[item] += 1\n",
    "        total += 1\n",
    "        \n",
    "    popularity = [(item_count[i], i) for i in item_count]\n",
    "    popularity.sort()\n",
    "    popularity.reverse()\n",
    "    \n",
    "    result = set()\n",
    "    count = 0\n",
    "    \n",
    "    for c, i in popularity:\n",
    "        count += c\n",
    "        result.add(i)\n",
    "        if count > total*threshold: break\n",
    "    return result\n",
    "\n",
    "def pred_popu_model(train, test, threshold):\n",
    "    '''\n",
    "    predict if item in each pair belongs to most popular items\n",
    "    \n",
    "    input: traning set(list), testing set(list), threshold\n",
    "    \n",
    "    output: prediction result, a list of 1 or 0\n",
    "    '''\n",
    "    rst = basic_popu_model(train, threshold)\n",
    "    pred = []\n",
    "    for e in test:\n",
    "        user, item = e.split('-')\n",
    "        if item in rst:\n",
    "            pred.append(1)\n",
    "        else:\n",
    "            pred.append(0)  \n",
    "    return pred\n",
    "\n",
    "pred1 = pred_popu_model(train_set, val_set, 0.5)\n",
    "print \"the accuracy of the baseline on the validation set is:\", accuracy(pred1)"
   ]
  },
  {
   "cell_type": "code",
   "execution_count": 98,
   "metadata": {
    "collapsed": false
   },
   "outputs": [
    {
     "name": "stdout",
     "output_type": "stream",
     "text": [
      "best threshold:  0.56\n",
      "best accuracy:  0.63851\n"
     ]
    }
   ],
   "source": [
    "# select the best threshold\n",
    "acc = []\n",
    "threshold = np.arange(0.1, 1, 0.01)\n",
    "for t in threshold:\n",
    "    temp_pred = pred_popu_model(train_set, val_set, t)\n",
    "    acc.append(accuracy(temp_pred))\n",
    "\n",
    "best_threshold = threshold[np.argmax(acc)]\n",
    "best_accuracy = np.max(acc)\n",
    "print 'best threshold: ', best_threshold\n",
    "print 'best accuracy: ', best_accuracy"
   ]
  },
  {
   "cell_type": "code",
   "execution_count": 100,
   "metadata": {
    "collapsed": false
   },
   "outputs": [
    {
     "data": {
      "text/plain": [
       "[<matplotlib.lines.Line2D at 0x1c2a5e5d0>]"
      ]
     },
     "execution_count": 100,
     "metadata": {},
     "output_type": "execute_result"
    },
    {
     "data": {
      "image/png": "[encoded data removed]",
      "text/plain": [
       "<matplotlib.figure.Figure at 0x1c20c8b50>"
      ]
     },
     "metadata": {},
     "output_type": "display_data"
    }
   ],
   "source": [
    "# draw scatter plot displaying the accuracy of different threshold\n",
    "plt.plot(threshold, acc)"
   ]
  },
  {
   "cell_type": "code",
   "execution_count": 101,
   "metadata": {
    "collapsed": false
   },
   "outputs": [
    {
     "name": "stdout",
     "output_type": "stream",
     "text": [
      "the accuracy of the user baseline on the validation set is: 0.65164\n"
     ]
    }
   ],
   "source": [
    "# basic popularity model\n",
    "def basic_user_popu_model(train, threshold):\n",
    "    '''\n",
    "    function to select the most popular users(purcahsed number > total purchased number * threshold)\n",
    "    \n",
    "    input: list of user-item pairs, threshold\n",
    "    \n",
    "    output: a list of most popular users \n",
    "    '''\n",
    "    user_count = defaultdict(int)\n",
    "    total = 0\n",
    "    for e in train:\n",
    "        user, item = e.split('-')\n",
    "        user_count[user] += 1\n",
    "        total += 1\n",
    "        \n",
    "    popularity = [(user_count[i], i) for i in user_count]\n",
    "    popularity.sort()\n",
    "    popularity.reverse()\n",
    "    \n",
    "    result = set()\n",
    "    count = 0\n",
    "    \n",
    "    for c, i in popularity:\n",
    "        count += c\n",
    "        result.add(i)\n",
    "        if count > total*threshold: break\n",
    "    return result\n",
    "\n",
    "def pred_user_popu_model(train, test, threshold):\n",
    "    '''\n",
    "    predict if user in each pair belongs to most popular items\n",
    "    \n",
    "    input: traning set(list), testing set(list), threshold\n",
    "    \n",
    "    output: prediction result, a list of 1 or 0\n",
    "    '''\n",
    "    rst = basic_user_popu_model(train, threshold)\n",
    "    pred = []\n",
    "    for e in test:\n",
    "        user, item = e.split('-')\n",
    "        if user in rst:\n",
    "            pred.append(1)\n",
    "        else:\n",
    "            pred.append(0)  \n",
    "    return pred\n",
    "\n",
    "pred2 = pred_user_popu_model(train_set, val_set, 0.5)\n",
    "print \"the accuracy of the user baseline on the validation set is:\", accuracy(pred2)"
   ]
  },
  {
   "cell_type": "code",
   "execution_count": 102,
   "metadata": {
    "collapsed": false
   },
   "outputs": [
    {
     "name": "stdout",
     "output_type": "stream",
     "text": [
      "best threshold:  0.6\n",
      "best accuracy:  0.65647\n"
     ]
    }
   ],
   "source": [
    "# select the best threshold\n",
    "acc = []\n",
    "threshold = np.arange(0.1, 1, 0.01)\n",
    "for t in threshold:\n",
    "    temp_pred = pred_user_popu_model(train_set, val_set, t)\n",
    "    acc.append(accuracy(temp_pred))\n",
    "\n",
    "best_threshold = threshold[np.argmax(acc)]\n",
    "best_accuracy = np.max(acc)\n",
    "print 'best threshold: ', best_threshold\n",
    "print 'best accuracy: ', best_accuracy"
   ]
  },
  {
   "cell_type": "code",
   "execution_count": 103,
   "metadata": {
    "collapsed": false
   },
   "outputs": [
    {
     "data": {
      "text/plain": [
       "[<matplotlib.lines.Line2D at 0x1c2141ad0>]"
      ]
     },
     "execution_count": 103,
     "metadata": {},
     "output_type": "execute_result"
    },
    {
     "data": {
      "image/png": "[encoded data removed]",
      "text/plain": [
       "<matplotlib.figure.Figure at 0x1c284b390>"
      ]
     },
     "metadata": {},
     "output_type": "display_data"
    }
   ],
   "source": [
    "# draw scatter plot displaying the accuracy of different threshold\n",
    "plt.plot(threshold, acc)"
   ]
  },
  {
   "cell_type": "markdown",
   "metadata": {
    "collapsed": true
   },
   "source": [
    "### logistic regression: ####\n",
    "1. X should be an one-zeroes matrix, each row represents for each user-item pair\n",
    "   \n",
    "2. The training set here are all 'purchased', which means\n",
    "    y_train = [1,1,..,1], So we use popularity of item as \n",
    "    new y_train, which is the prediction of training set\n",
    "\n",
    "3. parameters will be fit by logistic regression, and chosen by differenct threshold         "
   ]
  },
  {
   "cell_type": "code",
   "execution_count": 84,
   "metadata": {
    "collapsed": false
   },
   "outputs": [
    {
     "data": {
      "text/plain": [
       "array([[ 0.,  0.,  1.,  1.,  0.,  0.],\n",
       "       [ 1.,  0.,  0.,  0.,  1.,  0.],\n",
       "       [ 0.,  1.,  0.,  0.,  0.,  1.]])"
      ]
     },
     "execution_count": 84,
     "metadata": {},
     "output_type": "execute_result"
    }
   ],
   "source": [
    "# example of building feature matrix X\n",
    "vec = DictVectorizer(sparse = False)\n",
    "x = [{'user': 'user1', 'item': 'item3'}, \n",
    "     {'user': 'user2', 'item': 'item1'},\n",
    "     {'user': 'user3', 'item': 'item2'}]\n",
    "matrix = vec.fit_transform(x)\n",
    "matrix"
   ]
  },
  {
   "cell_type": "code",
   "execution_count": 78,
   "metadata": {
    "collapsed": false
   },
   "outputs": [
    {
     "data": {
      "text/plain": [
       "[{'item': 'I572782694', 'user': 'U243261361'},\n",
       " {'item': 'I172992448', 'user': 'U947346309'}]"
      ]
     },
     "execution_count": 78,
     "metadata": {},
     "output_type": "execute_result"
    }
   ],
   "source": [
    "X_temp"
   ]
  },
  {
   "cell_type": "code",
   "execution_count": 104,
   "metadata": {
    "collapsed": false
   },
   "outputs": [
    {
     "name": "stdout",
     "output_type": "stream",
     "text": [
      "The accuracy of logistic regression(threshold = 0.5): 0.65164\n"
     ]
    }
   ],
   "source": [
    "def user_logistic(train, test, threshold):\n",
    "    '''\n",
    "    a function to train logistic regression model\n",
    "    make a prediction of testing set and get accuracy\n",
    "    \n",
    "    input: training set(list), testing set(list), threshold(numeric)\n",
    "    \n",
    "    output: accuracy of the model, prediction result(a list of 1 or 0)\n",
    "    '''\n",
    "    \n",
    "    # generate new y_train\n",
    "    y_train = pred_user_popu_model(train, train, threshold)\n",
    "    \n",
    "    # generate new x_train\n",
    "    v = DictVectorizer()\n",
    "    X_temp = [{\"user\": e.split('-')[0], \"item\": e.split('-')[1]} for e in train]\n",
    "    X_train = v.fit_transform(X_temp)\n",
    "    \n",
    "    # fit_logistic\n",
    "    clf = LogisticRegression()\n",
    "    clf.fit(X_train, y_train) \n",
    "    \n",
    "    # generate new x_val\n",
    "    X_tmp = [{\"user\": e.split('-')[0], \"item\": e.split('-')[1]} for e in test]\n",
    "    X_val = v.transform(X_tmp)\n",
    "    \n",
    "    pred = clf.predict(X_val)\n",
    "    \n",
    "    return accuracy(pred), pred\n",
    "\n",
    "print 'The accuracy of logistic regression(threshold = 0.5):', user_logistic(train_set, val_set, 0.5)[0]"
   ]
  },
  {
   "cell_type": "code",
   "execution_count": 105,
   "metadata": {
    "collapsed": false
   },
   "outputs": [
    {
     "name": "stdout",
     "output_type": "stream",
     "text": [
      "best threshold:  0.6\n",
      "best accuracy:  0.65647\n"
     ]
    }
   ],
   "source": [
    "# select the best threshold\n",
    "acc = []\n",
    "threshold = np.arange(0.1, 1, 0.01)\n",
    "for t in threshold:\n",
    "    acc.append(user_logistic(train_set, val_set, t)[0])\n",
    "\n",
    "best_threshold = threshold[np.argmax(acc)]\n",
    "best_accuracy = np.max(acc)\n",
    "print 'best threshold: ', best_threshold\n",
    "print 'best accuracy: ', best_accuracy"
   ]
  },
  {
   "cell_type": "code",
   "execution_count": 106,
   "metadata": {
    "collapsed": false
   },
   "outputs": [
    {
     "data": {
      "text/plain": [
       "[<matplotlib.lines.Line2D at 0x1c2c34350>]"
      ]
     },
     "execution_count": 106,
     "metadata": {},
     "output_type": "execute_result"
    },
    {
     "data": {
      "image/png": "[encoded data removed]",
      "text/plain": [
       "<matplotlib.figure.Figure at 0x1c2a09fd0>"
      ]
     },
     "metadata": {},
     "output_type": "display_data"
    }
   ],
   "source": [
    "# draw scatter plot displaying the accuracy of different threshold\n",
    "plt.plot(threshold, acc)"
   ]
  },
  {
   "cell_type": "markdown",
   "metadata": {},
   "source": [
    "### User-based Collaborative Filtering: ####\n",
    "This is a method performs recommendation in terms of user/user similarity. This method was implemented by Jaccard Similarity between users. Jaccard Similarity between users is defined as the intersection of two users divided by the union of them.\n",
    "\n",
    "To predict a pair of user and item, say U1-I1, we checked any other users who purchased I1, say Ui, if the Jaccard similarity between U1 and Ui is positive(which means they have common purchase), then we predicted U1-I1 as '1', otherwise is '0'. Here, because this model is time-consuming when test set is large, so we reduced the validation set to 5000."
   ]
  },
  {
   "cell_type": "code",
   "execution_count": 89,
   "metadata": {
    "collapsed": false
   },
   "outputs": [],
   "source": [
    "val = all_pairs[999500: ] + non_purchase[0:500]"
   ]
  },
  {
   "cell_type": "code",
   "execution_count": 49,
   "metadata": {
    "collapsed": true
   },
   "outputs": [],
   "source": [
    "# Build utility matrix\n",
    "train_user = []\n",
    "train_item = []\n",
    "for e in train_set:\n",
    "    user, item = e.split('-')\n",
    "    train_user.append(user)\n",
    "    train_item.append(item)\n",
    "    \n",
    "unique_user = list(set(train_user))\n",
    "unique_item = list(set(train_item))\n",
    "    \n",
    "rating = [1 for i in range(len(train_user))]\n",
    "d = {'user': pd.Series(train_user), \n",
    "    'item': pd.Series(train_item), \n",
    "    'rating': pd.Series(rating)}\n",
    "df = pd.DataFrame(d)    \n",
    "table = df.pivot_table(index = 'user', columns = 'item', values = 'rating')"
   ]
  },
  {
   "cell_type": "code",
   "execution_count": 75,
   "metadata": {
    "collapsed": false
   },
   "outputs": [
    {
     "data": {
      "text/html": [
       "<div>\n",
       "<table border=\"1\" class=\"dataframe\">\n",
       "  <thead>\n",
       "    <tr style=\"text-align: right;\">\n",
       "      <th>item</th>\n",
       "      <th>item1</th>\n",
       "      <th>item2</th>\n",
       "      <th>item3</th>\n",
       "    </tr>\n",
       "    <tr>\n",
       "      <th>user</th>\n",
       "      <th></th>\n",
       "      <th></th>\n",
       "      <th></th>\n",
       "    </tr>\n",
       "  </thead>\n",
       "  <tbody>\n",
       "    <tr>\n",
       "      <th>user1</th>\n",
       "      <td>1</td>\n",
       "      <td>NaN</td>\n",
       "      <td>1</td>\n",
       "    </tr>\n",
       "    <tr>\n",
       "      <th>user2</th>\n",
       "      <td>1</td>\n",
       "      <td>NaN</td>\n",
       "      <td>NaN</td>\n",
       "    </tr>\n",
       "    <tr>\n",
       "      <th>user3</th>\n",
       "      <td>NaN</td>\n",
       "      <td>1</td>\n",
       "      <td>1</td>\n",
       "    </tr>\n",
       "  </tbody>\n",
       "</table>\n",
       "</div>"
      ],
      "text/plain": [
       "item   item1  item2  item3\n",
       "user                      \n",
       "user1      1    NaN      1\n",
       "user2      1    NaN    NaN\n",
       "user3    NaN      1      1"
      ]
     },
     "execution_count": 75,
     "metadata": {},
     "output_type": "execute_result"
    }
   ],
   "source": [
    "# example\n",
    "u = ['user1', 'user2', 'user3', 'user1', 'user3']\n",
    "i = ['item3', 'item1', 'item2', 'item1', 'item3']\n",
    "\n",
    "r = [1 for i in range(len(a))]\n",
    "series = {'user': pd.Series(a), \n",
    "    'item': pd.Series(b), \n",
    "    'rating': pd.Series(r)}\n",
    "df = pd.DataFrame(series)    \n",
    "tb = df.pivot_table(index = 'user', columns = 'item', values = 'rating')\n",
    "tb"
   ]
  },
  {
   "cell_type": "code",
   "execution_count": 90,
   "metadata": {
    "collapsed": false
   },
   "outputs": [
    {
     "name": "stdout",
     "output_type": "stream",
     "text": [
      "The accuracy:  0.771\n"
     ]
    }
   ],
   "source": [
    "def similarity_model(train, test):\n",
    "    '''\n",
    "    A function to train and predict collaborative filtering model\n",
    "    \n",
    "    input: training set(list), testing set(list)\n",
    "    \n",
    "    output: result of prediction(a list of 1 or 0), accuracy(numeric)\n",
    "    '''\n",
    "    \n",
    "    pred = []\n",
    "    # predict each pair\n",
    "    for e in test:\n",
    "        user, item = e.split('-')\n",
    "        if user in train_user and item in train_item:\n",
    "            col = table[item]\n",
    "            temp_users = col[col == 1].index.tolist()\n",
    "            \n",
    "            # measure the similarity of other users who also purchased the item in the pair\n",
    "            # and the user in the pair\n",
    "            has_common = False\n",
    "            for u in temp_users:\n",
    "                if u != user:\n",
    "                    row1 = table.loc[user]\n",
    "                    row2 = table.loc[u]\n",
    "                    common = set(row1[row1 == 1].index.tolist()) & set(row2[row2 == 1].index.tolist())\n",
    "                    if len(common) != 0:\n",
    "                        has_common = True\n",
    "                        break\n",
    "                        \n",
    "            # if similarity is positive, predict user-item as 1\n",
    "            # otherwise as 0\n",
    "            if has_common:\n",
    "                pred.append(1)\n",
    "            else:\n",
    "                pred.append(0)\n",
    "        else:\n",
    "            pred.append(0)\n",
    "    return pred, accuracy(pred)\n",
    "    \n",
    "print \"The accuracy: \", similarity_model(train_set, val)[1]"
   ]
  },
  {
   "cell_type": "code",
   "execution_count": 95,
   "metadata": {
    "collapsed": false
   },
   "outputs": [
    {
     "name": "stdout",
     "output_type": "stream",
     "text": [
      "0.774\n",
      "0.788\n",
      "0.775\n",
      "0.761\n",
      "0.795\n",
      "0.8\n",
      "0.793\n",
      "0.769\n",
      "0.766\n",
      "0.779\n",
      "0.794\n",
      "0.788\n",
      "0.795\n",
      "0.784\n",
      "0.8\n",
      "0.8\n",
      "0.769\n",
      "0.776\n",
      "0.782\n",
      "0.798\n"
     ]
    }
   ],
   "source": [
    "# Running 20 times of collaborative filtering model\n",
    "for i in range(0, 20):\n",
    "    val = list(np.random.choice(all_pairs[900000:], size = 500, replace = False)) + list(np.random.choice(non_purchase, size = 500, replace = False))\n",
    "    print similarity_model(train_set, val)[1]"
   ]
  },
  {
   "cell_type": "code",
   "execution_count": 96,
   "metadata": {
    "collapsed": false
   },
   "outputs": [
    {
     "data": {
      "text/plain": [
       "(47.843991875817743, 2.8563340903465752e-21)"
      ]
     },
     "execution_count": 96,
     "metadata": {},
     "output_type": "execute_result"
    }
   ],
   "source": [
    "# applied T test to test if accuracy of collaborative filtering \n",
    "# is significantly larger than benchmark\n",
    "from scipy import stats\n",
    "\n",
    "acc = np.array([0.774, 0.788, 0.775, 0.761, 0.795, 0.8, 0.793, 0.769, 0.766, 0.779, 0.794, 0.788, 0.795, 0.784, 0.8, 0.8, 0.769, 0.776, 0.782, 0.798])\n",
    "benchmark = 0.65\n",
    "stats.ttest_1samp(acc, benchmark)"
   ]
  },
  {
   "cell_type": "code",
   "execution_count": 109,
   "metadata": {
    "collapsed": false
   },
   "outputs": [],
   "source": [
    "# compute the average accuracy of different methods\n",
    "acc_popu_item = []\n",
    "acc_popu_user = []\n",
    "acc_logi = []\n",
    "for i in range(0,20):\n",
    "    temp_pred = pred_popu_model(train_set, val_set, 0.56)\n",
    "    acc_popu_item.append(accuracy(temp_pred))\n",
    "    \n",
    "    temp_pred = pred_user_popu_model(train_set, val_set, 0.6)\n",
    "    acc_popu_user.append(accuracy(temp_pred))\n",
    "    \n",
    "    acc_logi.append(user_logistic(train_set, val_set, 0.6)[0])\n",
    "\n",
    "acc_cf = [0.774, 0.788, 0.775, 0.761, 0.795, 0.8, 0.793, 0.769, 0.766, 0.779, 0.794, 0.788, 0.795, 0.784, 0.8, 0.8, 0.769, 0.776, 0.782, 0.798]\n",
    "average = [np.mean(acc_popu_item), np.mean(acc_popu_user), \n",
    "           np.mean(acc_logi), np.mean(acc_cf)]"
   ]
  },
  {
   "cell_type": "code",
   "execution_count": 118,
   "metadata": {
    "collapsed": false
   },
   "outputs": [
    {
     "data": {
      "text/html": [
       "<div>\n",
       "<table border=\"1\" class=\"dataframe\">\n",
       "  <thead>\n",
       "    <tr style=\"text-align: right;\">\n",
       "      <th></th>\n",
       "      <th>Average Accuracy</th>\n",
       "    </tr>\n",
       "  </thead>\n",
       "  <tbody>\n",
       "    <tr>\n",
       "      <th>item popularity</th>\n",
       "      <td>0.63851</td>\n",
       "    </tr>\n",
       "    <tr>\n",
       "      <th>user popularity</th>\n",
       "      <td>0.65647</td>\n",
       "    </tr>\n",
       "    <tr>\n",
       "      <th>logistic regression</th>\n",
       "      <td>0.65647</td>\n",
       "    </tr>\n",
       "    <tr>\n",
       "      <th>collaborative filtering</th>\n",
       "      <td>0.78430</td>\n",
       "    </tr>\n",
       "  </tbody>\n",
       "</table>\n",
       "</div>"
      ],
      "text/plain": [
       "                         Average Accuracy\n",
       "item popularity                   0.63851\n",
       "user popularity                   0.65647\n",
       "logistic regression               0.65647\n",
       "collaborative filtering           0.78430"
      ]
     },
     "execution_count": 118,
     "metadata": {},
     "output_type": "execute_result"
    }
   ],
   "source": [
    "# Draw table to compare average accuracy of different methods\n",
    "model = ['item popularity', 'user popularity', 'logistic regression', 'collaborative filtering']\n",
    "          \n",
    "d = {'Average Accuracy': pd.Series(average, index = model)}\n",
    "df = pd.DataFrame(d)  \n",
    "df"
   ]
  },
  {
   "cell_type": "markdown",
   "metadata": {
    "collapsed": true
   },
   "source": [
    "## Result: ##\n",
    "### Model Evaluation and Validation ###\n",
    "\n",
    "Compared the performance of three methods:\n",
    "Baseline Popularity Model: the most efficiency model, very fast, but the performance is not good as my expectation. The user popularity model performs better than the item popularity model, the best performance of the user popularity model is 0.63357.\n",
    "\n",
    "Logistic Regression: slower than the baseline popularity model, the performance is similar to the baseline popularity model.\n",
    "\n",
    "User-Based Collaborative Filtering: Performs best with really high accuracy, but when test set is large, this method is slower than the above two. The accuracy is 0.95 on the validation set.\n",
    "\n",
    "Although the collaborative filtering is the slowest one, we still considered this model as our final model, since it’s performance is really good compare to the baseline and logistic regression."
   ]
  },
  {
   "cell_type": "markdown",
   "metadata": {},
   "source": [
    "### Justification ###\n",
    "\n",
    "Finally we decided to use user-based collaborative filtering to do prediction, the result of the validation set is around 0.95 which is higher than the accuracy we expected. \n",
    "\n",
    "But the accuracy was got by just testing on 10000 validation set, which is not large enough, so the reliability of the accuracy should be doubted. But we still have reason to justify that the collaborative filtering works better than the baseline and logistic regression, this is because when generated the validation set in the first two methods, we got non-purchase data set by generation instead of from real world, so the validation set is not as reliable as what we used in the last model."
   ]
  },
  {
   "cell_type": "markdown",
   "metadata": {},
   "source": [
    "## Conclusion: ##\n",
    "### Reflection ###\n",
    "\n",
    "This project is a recommender system problem, the main idea is to evaluate people’s preference and purchase habits and make some recommendations. In this specific problem, we are given 1 million Amazon book reviews, which provided us purchase information, our target is to predict when user purchased the item given some user-item pairs. \n",
    "\n",
    "To solve the problem, first we generate a user-item list from the original list of review information. Then we reconstruct the training and validation data by randomly selecting user-item pairs which do not show up in the training set as non-purchase pairs. As for models, we considered three models: popularity model, logistic regression and collaborative filtering. For popularity model, we considered the most popular pairs as label 1; for logistic regression, we combined the popularity in popularity model as a feature in logistic regression model, in other words, we use the prediction of popularity model on training set as the model response, and then transform the feature list to one-zeroes matrix to fit the model; for collaborative filtering, we implemented this model by using Jaccard similarity to measure the similarity between users and evaluated users’ preference. \n",
    "\n",
    "This problem is useful and practical in the real life, but since the dataset is quite large, working on the whole dataset is time-consuming, maybe we should come up with some other more efficiency and effective models."
   ]
  },
  {
   "cell_type": "markdown",
   "metadata": {},
   "source": [
    "### Improvement ###\n",
    "\n",
    "We still have a few problems left to address:\n",
    "\n",
    "1) Collaborative filtering in practice is kind of slow given a huge enough dataset, if one user purchases one item, this will change the rankings of every other item that was purchased by at least one user in common.\n",
    "\n",
    "2) In practice, this may have \"cold start\" problem when there is no use for new users and new items.\n",
    "\n",
    "3) In reality, the non-purchase pairs will be comparatively larger than purchased pairs, so the metrics of using accuracy may not be a good idea in practice, we should consider assign additional weight to negative instances, for example, F_1 score."
   ]
  },
  {
   "cell_type": "code",
   "execution_count": null,
   "metadata": {
    "collapsed": true
   },
   "outputs": [],
   "source": []
  }
 ],
 "metadata": {
  "kernelspec": {
   "display_name": "Python 2",
   "language": "python",
   "name": "python2"
  },
  "language_info": {
   "codemirror_mode": {
    "name": "ipython",
    "version": 2
   },
   "file_extension": ".py",
   "mimetype": "text/x-python",
   "name": "python",
   "nbconvert_exporter": "python",
   "pygments_lexer": "ipython2",
   "version": "2.7.11"
  }
 },
 "nbformat": 4,
 "nbformat_minor": 0
}
